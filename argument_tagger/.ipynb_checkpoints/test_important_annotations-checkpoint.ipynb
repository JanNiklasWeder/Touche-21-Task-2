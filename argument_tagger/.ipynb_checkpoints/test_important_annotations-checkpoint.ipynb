{
 "cells": [
  {
   "cell_type": "code",
   "execution_count": null,
   "metadata": {},
   "outputs": [],
   "source": [
    "import spacy\n",
    "import en_core_web_sm\n",
    "nlp = en_core_web_sm.load()\n",
    "import xml.etree.ElementTree as ET\n",
    "import pandas as pd\n",
    "\n",
    "n_topics=50\n",
    "\n",
    "def get_titles(file):\n",
    "    tree = ET.parse(file)\n",
    "    root = tree.getroot()\n",
    "    relevant_annotations = []\n",
    "    annotations = []\n",
    "    i=1\n",
    "    for title in root.iter('title'):\n",
    "        if i<=int(n_topics):\n",
    "            title = title.text.strip()\n",
    "            relevant_annotations.append((title,get_relevant_annotations(title)))\n",
    "            annotations.append((title,get_annotations(title)))\n",
    "        i=i+1\n",
    "    return annotations, relevant_annotations\n",
    "\n",
    "def get_annotations(text):\n",
    "    doc = nlp(text)\n",
    "    l = []\n",
    "    for token in doc:\n",
    "        l.append((token.text, token.tag_))\n",
    "    return l\n",
    "def get_relevant_annotations(data):\n",
    "    nouns_as_string=[]\n",
    "    doc = nlp(data)\n",
    "    annotations = ['CC','CD',\n",
    "                    'JJ','JJR','JJS',\n",
    "                    'RB','RBR','RBS', \n",
    "                    'NN', 'NNS','NNP','NNPS', \n",
    "                    'VB']\n",
    "    for token in doc:\n",
    "        if token.tag_ in annotations:\n",
    "            nouns_as_string.append(token.text)\n",
    "    return ' '.join(nouns_as_string)"
   ]
  },
  {
   "cell_type": "code",
   "execution_count": null,
   "metadata": {},
   "outputs": [],
   "source": [
    "annotations, annotations_relevant = get_titles(\"topics-task-2.xml\")\n",
    "\n",
    "annotations_titles = [ annotations[i][0] for i in range(0,len(annotations))]\n",
    "annotations_tags = [ annotations[i][1] for i in range(0,len(annotations))]\n",
    "\n",
    "df = pd.DataFrame({\"title\": annotations_titles, \"POS\":annotations_tags, \"rel_POS\": annotations_relevant})\n",
    "df.index +=1\n",
    "df"
   ]
  },
  {
   "cell_type": "code",
   "execution_count": null,
   "metadata": {},
   "outputs": [],
   "source": [
    "for i in range(1,n_topics):\n",
    "    print(df['POS'][i])\n",
    "    print('\\n')"
   ]
  },
  {
   "cell_type": "code",
   "execution_count": null,
   "metadata": {},
   "outputs": [],
   "source": [
    "text=df['title'][37]\n",
    "doc = nlp(text)\n",
    "for ent in doc.ents:\n",
    "    print(ent.text, ent.label_)"
   ]
  }
 ],
 "metadata": {
  "kernelspec": {
   "display_name": "Python (internetsuchmaschine)",
   "language": "python",
   "name": "internetsuchmaschine"
  },
  "language_info": {
   "codemirror_mode": {
    "name": "ipython",
    "version": 3
   },
   "file_extension": ".py",
   "mimetype": "text/x-python",
   "name": "python",
   "nbconvert_exporter": "python",
   "pygments_lexer": "ipython3",
   "version": "3.7.4"
  }
 },
 "nbformat": 4,
 "nbformat_minor": 4
}
