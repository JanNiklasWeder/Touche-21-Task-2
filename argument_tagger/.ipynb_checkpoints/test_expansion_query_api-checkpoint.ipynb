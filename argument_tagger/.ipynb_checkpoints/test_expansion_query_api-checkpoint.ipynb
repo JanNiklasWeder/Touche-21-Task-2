{
 "cells": [
  {
   "cell_type": "code",
   "execution_count": null,
   "metadata": {},
   "outputs": [],
   "source": [
    "import topics_annotation\n",
    "\n",
    "file=\"topics-task-2.xml\"\n",
    "\n",
    "buffer = topics_annotation.get_titles(file) #buffer = [(topic_title, bool_args) for 50 topics]\n",
    "\n",
    "def api(topic, size):\n",
    "    url = 'https://www.chatnoir.eu/api/v1/_search'\n",
    "\n",
    "    request_data = {\n",
    "        \"apikey\": \"67fac2d9-0f98-4c19-aab0-18c848bfa130\",\n",
    "        \"query\": topic,\n",
    "        \"size\": size,\n",
    "        \"index\": [\"cw12\"],\n",
    "    }\n",
    "    resp=requests.post(url, data=request_data).json()\n",
    "    results = resp['results']\n",
    "    #get uuids for next argument scores\n",
    "    uuids_topic = [ results[i]['uuid'] for i in range(0,len(results))]\n",
    "    print(uuids)\n",
    "    return uuids_topic,resp"
   ]
  }
 ],
 "metadata": {
  "kernelspec": {
   "display_name": "Python (internetsuchmaschine)",
   "language": "python",
   "name": "internetsuchmaschine"
  },
  "language_info": {
   "codemirror_mode": {
    "name": "ipython",
    "version": 3
   },
   "file_extension": ".py",
   "mimetype": "text/x-python",
   "name": "python",
   "nbconvert_exporter": "python",
   "pygments_lexer": "ipython3",
   "version": "3.7.4"
  }
 },
 "nbformat": 4,
 "nbformat_minor": 2
}
