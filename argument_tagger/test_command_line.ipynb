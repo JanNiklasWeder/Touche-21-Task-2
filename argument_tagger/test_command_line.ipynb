{
 "cells": [
  {
   "cell_type": "markdown",
   "metadata": {},
   "source": [
    "# TARGER API: ClassifyWD and nDCG5"
   ]
  },
  {
   "cell_type": "code",
   "execution_count": null,
   "metadata": {},
   "outputs": [],
   "source": [
    "#run cal_pytrec_eval.py touche2020-task2-relevance-withbaseline.qrel expanded_output_ntopics_50_15_False_False_False_classifyWD_dep_underscore_0525.run 'ndcg_cut_5' \n",
    "#run main_retrieval.py topics-task-2.xml 50 15 False False False classifyWD_dep 0.6\n",
    "import os\n",
    "#import subprocess\n",
    "score= 0.0\n",
    "model = ['classifyWD','classifyWD_dep'][0]\n",
    "while score <=0.8:\n",
    "    cmd_1 = 'python main_retrieval.py topics-task-2.xml 50 15 False False False '+model+' '+str(score)\n",
    "    #print(cmd_1)\n",
    "    os.system(cmd_1)\n",
    "    score=score+0.025"
   ]
  },
  {
   "cell_type": "code",
   "execution_count": 4,
   "metadata": {},
   "outputs": [
    {
     "name": "stdout",
     "output_type": "stream",
     "text": [
      "0.000\n",
      "0.025\n",
      "0.050\n",
      "0.075\n",
      "0.100\n",
      "0.125\n",
      "0.150\n",
      "0.175\n",
      "0.200\n",
      "0.225\n",
      "0.250\n",
      "0.275\n",
      "0.300\n",
      "0.325\n",
      "0.350\n",
      "0.375\n",
      "0.400\n",
      "0.425\n",
      "0.450\n",
      "0.475\n",
      "0.500\n",
      "0.525\n",
      "0.550\n",
      "0.575\n",
      "0.600\n",
      "0.625\n",
      "0.650\n",
      "0.675\n",
      "0.700\n",
      "0.725\n",
      "0.750\n",
      "0.775\n"
     ]
    }
   ],
   "source": [
    "import os\n",
    "score= 0.0\n",
    "model = ['classifyWD','classifyWD_dep'][0]\n",
    "while score <=0.8:\n",
    "    print(\"{:.3f}\".format(score))\n",
    "    str_score= str(score).replace('.','')\n",
    "    cmd_2 = 'python cal_pytrec_eval.py files/touche2020-task2-relevance-withbaseline.qrel files/expanded_output_ntopics_50_15_False_False_False_'+model+'_underscore_'+str_score+'.run ndcg_cut_5'\n",
    "    #print(cmd_2)\n",
    "    os.system(cmd_2)\n",
    "    score=score+0.025"
   ]
  },
  {
   "cell_type": "markdown",
   "metadata": {},
   "source": [
    "# TARGER API - ClassifyWD_dep"
   ]
  },
  {
   "cell_type": "code",
   "execution_count": 6,
   "metadata": {},
   "outputs": [
    {
     "name": "stdout",
     "output_type": "stream",
     "text": [
      "python main_retrieval.py topics-task-2.xml 50 15 False False False classifyWD_dep 0.625\n",
      "python main_retrieval.py topics-task-2.xml 50 15 False False False classifyWD_dep 0.65\n",
      "python main_retrieval.py topics-task-2.xml 50 15 False False False classifyWD_dep 0.675\n",
      "python main_retrieval.py topics-task-2.xml 50 15 False False False classifyWD_dep 0.7000000000000001\n",
      "python main_retrieval.py topics-task-2.xml 50 15 False False False classifyWD_dep 0.7250000000000001\n",
      "python main_retrieval.py topics-task-2.xml 50 15 False False False classifyWD_dep 0.7500000000000001\n",
      "python main_retrieval.py topics-task-2.xml 50 15 False False False classifyWD_dep 0.7750000000000001\n"
     ]
    }
   ],
   "source": [
    "#run cal_pytrec_eval.py touche2020-task2-relevance-withbaseline.qrel expanded_output_ntopics_50_15_False_False_False_classifyWD_dep_underscore_0525.run 'ndcg_cut_5' \n",
    "#run main_retrieval.py topics-task-2.xml 50 15 False False False classifyWD_dep 0.6\n",
    "import os\n",
    "#import subprocess\n",
    "score= 0.625\n",
    "model = ['classifiyWD','classifyWD_dep'][1]\n",
    "while score <=0.8:\n",
    "    cmd_1 = 'python main_retrieval.py topics-task-2.xml 50 15 False False False '+model+' '+str(score)\n",
    "    print(cmd_1)\n",
    "    os.system(cmd_1)\n",
    "    score=score+0.025\n",
    "    \n",
    "#run cal_pytrec_eval.py touche2020-task2-relevance-withbaseline.qrel expanded_output_ntopics_50_15_False_False_False_classifyWD_dep_underscore_0525.run 'ndcg_cut_5' \n",
    "#run main_retrieval.py topics-task-2.xml 50 15 False False False classifyWD_dep 0.6\n",
    "import os\n",
    "score= 0.625\n",
    "model = ['classifiyWD','classifyWD_dep'][1]\n",
    "while score <=0.8:\n",
    "    print(\"{:.3f}\".format(score))\n",
    "    str_score= str(score).replace('.','')\n",
    "    cmd_2 = 'python cal_pytrec_eval.py files/touche2020-task2-relevance-withbaseline.qrel files/expanded_output_ntopics_50_15_False_False_False_'+model+'_underscore_'+str_score+'.run ndcg_cut_5'\n",
    "    print(cmd_2)\n",
    "    os.system(cmd_2)\n",
    "    score=score+0.025"
   ]
  },
  {
   "cell_type": "code",
   "execution_count": 9,
   "metadata": {},
   "outputs": [
    {
     "name": "stdout",
     "output_type": "stream",
     "text": [
      "0.000\n",
      "python cal_pytrec_eval.py files/touche2020-task2-relevance-withbaseline.qrel files/expanded_output_ntopics_50_15_False_False_False_classifyWD_dep_underscore_0.run ndcg_cut_5\n",
      "0.025\n",
      "python cal_pytrec_eval.py files/touche2020-task2-relevance-withbaseline.qrel files/expanded_output_ntopics_50_15_False_False_False_classifyWD_dep_underscore_0025.run ndcg_cut_5\n",
      "0.050\n",
      "python cal_pytrec_eval.py files/touche2020-task2-relevance-withbaseline.qrel files/expanded_output_ntopics_50_15_False_False_False_classifyWD_dep_underscore_005.run ndcg_cut_5\n",
      "0.075\n",
      "python cal_pytrec_eval.py files/touche2020-task2-relevance-withbaseline.qrel files/expanded_output_ntopics_50_15_False_False_False_classifyWD_dep_underscore_007500000000000001.run ndcg_cut_5\n",
      "0.100\n",
      "python cal_pytrec_eval.py files/touche2020-task2-relevance-withbaseline.qrel files/expanded_output_ntopics_50_15_False_False_False_classifyWD_dep_underscore_01.run ndcg_cut_5\n",
      "0.125\n",
      "python cal_pytrec_eval.py files/touche2020-task2-relevance-withbaseline.qrel files/expanded_output_ntopics_50_15_False_False_False_classifyWD_dep_underscore_0125.run ndcg_cut_5\n",
      "0.150\n",
      "python cal_pytrec_eval.py files/touche2020-task2-relevance-withbaseline.qrel files/expanded_output_ntopics_50_15_False_False_False_classifyWD_dep_underscore_015.run ndcg_cut_5\n",
      "0.175\n",
      "python cal_pytrec_eval.py files/touche2020-task2-relevance-withbaseline.qrel files/expanded_output_ntopics_50_15_False_False_False_classifyWD_dep_underscore_0175.run ndcg_cut_5\n",
      "0.200\n",
      "python cal_pytrec_eval.py files/touche2020-task2-relevance-withbaseline.qrel files/expanded_output_ntopics_50_15_False_False_False_classifyWD_dep_underscore_019999999999999998.run ndcg_cut_5\n",
      "0.225\n",
      "python cal_pytrec_eval.py files/touche2020-task2-relevance-withbaseline.qrel files/expanded_output_ntopics_50_15_False_False_False_classifyWD_dep_underscore_022499999999999998.run ndcg_cut_5\n",
      "0.250\n",
      "python cal_pytrec_eval.py files/touche2020-task2-relevance-withbaseline.qrel files/expanded_output_ntopics_50_15_False_False_False_classifyWD_dep_underscore_024999999999999997.run ndcg_cut_5\n",
      "0.275\n",
      "python cal_pytrec_eval.py files/touche2020-task2-relevance-withbaseline.qrel files/expanded_output_ntopics_50_15_False_False_False_classifyWD_dep_underscore_027499999999999997.run ndcg_cut_5\n",
      "0.300\n",
      "python cal_pytrec_eval.py files/touche2020-task2-relevance-withbaseline.qrel files/expanded_output_ntopics_50_15_False_False_False_classifyWD_dep_underscore_03.run ndcg_cut_5\n",
      "0.325\n",
      "python cal_pytrec_eval.py files/touche2020-task2-relevance-withbaseline.qrel files/expanded_output_ntopics_50_15_False_False_False_classifyWD_dep_underscore_0325.run ndcg_cut_5\n",
      "0.350\n",
      "python cal_pytrec_eval.py files/touche2020-task2-relevance-withbaseline.qrel files/expanded_output_ntopics_50_15_False_False_False_classifyWD_dep_underscore_035000000000000003.run ndcg_cut_5\n",
      "0.375\n",
      "python cal_pytrec_eval.py files/touche2020-task2-relevance-withbaseline.qrel files/expanded_output_ntopics_50_15_False_False_False_classifyWD_dep_underscore_037500000000000006.run ndcg_cut_5\n",
      "0.400\n",
      "python cal_pytrec_eval.py files/touche2020-task2-relevance-withbaseline.qrel files/expanded_output_ntopics_50_15_False_False_False_classifyWD_dep_underscore_04000000000000001.run ndcg_cut_5\n",
      "0.425\n",
      "python cal_pytrec_eval.py files/touche2020-task2-relevance-withbaseline.qrel files/expanded_output_ntopics_50_15_False_False_False_classifyWD_dep_underscore_04250000000000001.run ndcg_cut_5\n",
      "0.450\n",
      "python cal_pytrec_eval.py files/touche2020-task2-relevance-withbaseline.qrel files/expanded_output_ntopics_50_15_False_False_False_classifyWD_dep_underscore_04500000000000001.run ndcg_cut_5\n",
      "0.475\n",
      "python cal_pytrec_eval.py files/touche2020-task2-relevance-withbaseline.qrel files/expanded_output_ntopics_50_15_False_False_False_classifyWD_dep_underscore_047500000000000014.run ndcg_cut_5\n",
      "0.500\n",
      "python cal_pytrec_eval.py files/touche2020-task2-relevance-withbaseline.qrel files/expanded_output_ntopics_50_15_False_False_False_classifyWD_dep_underscore_05000000000000001.run ndcg_cut_5\n",
      "0.525\n",
      "python cal_pytrec_eval.py files/touche2020-task2-relevance-withbaseline.qrel files/expanded_output_ntopics_50_15_False_False_False_classifyWD_dep_underscore_05250000000000001.run ndcg_cut_5\n",
      "0.550\n",
      "python cal_pytrec_eval.py files/touche2020-task2-relevance-withbaseline.qrel files/expanded_output_ntopics_50_15_False_False_False_classifyWD_dep_underscore_05500000000000002.run ndcg_cut_5\n",
      "0.575\n",
      "python cal_pytrec_eval.py files/touche2020-task2-relevance-withbaseline.qrel files/expanded_output_ntopics_50_15_False_False_False_classifyWD_dep_underscore_05750000000000002.run ndcg_cut_5\n",
      "0.600\n",
      "python cal_pytrec_eval.py files/touche2020-task2-relevance-withbaseline.qrel files/expanded_output_ntopics_50_15_False_False_False_classifyWD_dep_underscore_06000000000000002.run ndcg_cut_5\n",
      "0.625\n",
      "python cal_pytrec_eval.py files/touche2020-task2-relevance-withbaseline.qrel files/expanded_output_ntopics_50_15_False_False_False_classifyWD_dep_underscore_06250000000000002.run ndcg_cut_5\n"
     ]
    }
   ],
   "source": [
    "#run cal_pytrec_eval.py touche2020-task2-relevance-withbaseline.qrel expanded_output_ntopics_50_15_False_False_False_classifyWD_dep_underscore_0525.run 'ndcg_cut_5' \n",
    "#run main_retrieval.py topics-task-2.xml 50 15 False False False classifyWD_dep 0.6\n",
    "import os\n",
    "score= 0\n",
    "model = ['classifiyWD','classifyWD_dep'][1]\n",
    "while score <=0.65:\n",
    "    print(\"{:.3f}\".format(score))\n",
    "    str_score= str(score).replace('.','')\n",
    "    cmd_2 = 'python cal_pytrec_eval.py files/touche2020-task2-relevance-withbaseline.qrel files/expanded_output_ntopics_50_15_False_False_False_'+model+'_underscore_'+str_score+'.run ndcg_cut_5'\n",
    "    print(cmd_2)\n",
    "    os.system(cmd_2)\n",
    "    score=score+0.025"
   ]
  },
  {
   "cell_type": "code",
   "execution_count": 3,
   "metadata": {},
   "outputs": [
    {
     "name": "stdout",
     "output_type": "stream",
     "text": [
      "avg of nDCG 0.519800\n"
     ]
    }
   ],
   "source": [
    "run cal_pytrec_eval.py files/touche2020-task2-relevance-withbaseline.qrel files/expanded_output_ntopics_50_15_False_False_False_classifyWD_dep_underscore_0.run ndcg_cut_5"
   ]
  },
  {
   "cell_type": "code",
   "execution_count": 1,
   "metadata": {},
   "outputs": [
    {
     "name": "stdout",
     "output_type": "stream",
     "text": [
      "Getting response for What is the difference between sex and love?\n",
      "Getting response for Which is better, a laptop or a desktop?\n",
      "Getting response for Which is better, Canon or Nikon?\n",
      "Getting response for What are the best dish detergents?\n",
      "Getting response for What are the best cities to live in?\n",
      "Getting response for What is the longest river in the U.S.?\n",
      "Getting response for Which is healthiest: coffee, green tea or black tea and why?\n",
      "Getting response for What are the advantages and disadvantages of PHP over Python and vice versa?\n",
      "Getting response for Why is Linux better than Windows?\n",
      "Getting response for How to sleep better?\n",
      "Getting response for Should I buy an LCD TV or a plasma TV?\n",
      "Getting response for Train or plane? Which is the better choice?\n",
      "Getting response for What is the highest mountain on Earth?\n",
      "Getting response for Should one prefer Chinese medicine or Western medicine?\n",
      "Getting response for What are the best washing machine brands?\n",
      "Getting response for Should I buy or rent?\n",
      "Getting response for Do you prefer cats or dogs, and why?\n",
      "Getting response for What is the better way to grill outdoors: gas or charcoal?\n",
      "Getting response for Which is better, MAC or PC?\n",
      "Getting response for What is better: to use a brush or a sponge?\n",
      "Getting response for Which is better, Linux or Microsoft?\n",
      "Getting response for Which is better, Pepsi or Coke?\n",
      "Getting response for What is better, Google search or Yahoo search?\n",
      "Getting response for Which one is better, Netflix or Blockbuster?\n",
      "Getting response for Which browser is better, Internet Explorer or Firefox?\n",
      "Getting response for Which is a better vehicle: BMW or Audi?\n",
      "Getting response for Which one is better, an electric stove or a gas stove?\n",
      "Getting response for What planes are best, Boeing or Airbus?\n",
      "Getting response for Which is better, Disneyland or Disney World?\n",
      "Getting response for Should I buy an Xbox or a PlayStation?\n",
      "Getting response for Which has more caffeine, coffee or tea?\n",
      "Getting response for Which is better, LED or LCD Reception Displays?\n",
      "Getting response for What is better: ASP or PHP?\n",
      "Getting response for What is better for the environment, a real or a fake Christmas tree?\n",
      "Getting response for Do you prefer tampons or pads?\n",
      "Getting response for What IDE is better for Java: NetBeans or Eclipse?\n",
      "Getting response for Is OpenGL better than Direct3D in terms of portability to different platforms?\n",
      "Getting response for What are the differences between MySQL and PostgreSQL in performance?\n",
      "Getting response for Is Java code more readable than code written in Scala?\n",
      "Getting response for Which operating system has better performance: Windows 7 or Windows 8?\n",
      "Getting response for Which smartphone has a better battery life: Xperia or iPhone?\n",
      "Getting response for Which four wheel truck is better: Ford or Toyota?\n",
      "Getting response for Should I prefer a Leica camera over Nikon for portrait photographs?\n",
      "Getting response for Which company has a larger capitalization: Apple or Microsoft?\n",
      "Getting response for Which laptop has a better durability: HP or Dell?\n",
      "Getting response for Which beverage has more calories per glass: beer or cider?\n",
      "Getting response for Is admission rate in Stanford higher than that of MIT?\n",
      "Getting response for Is pasta healthier than pizza?\n",
      "Getting response for Which city is more expensive to live in: San Francisco or New York?\n",
      "Getting response for Whose salary is higher: basketball or soccer players?\n"
     ]
    }
   ],
   "source": [
    "run main_retrieval.py topics-task-2.xml 50 15 False False False classifyWD_dep 0.25"
   ]
  },
  {
   "cell_type": "code",
   "execution_count": 14,
   "metadata": {},
   "outputs": [
    {
     "name": "stdout",
     "output_type": "stream",
     "text": [
      "0.000\n",
      "0.025\n",
      "0.050\n",
      "0.075\n",
      "0.100\n",
      "0.125\n",
      "0.150\n",
      "0.175\n",
      "0.200\n",
      "0.225\n",
      "0.250\n",
      "0.275\n",
      "0.300\n",
      "0.325\n",
      "0.350\n",
      "0.375\n",
      "0.400\n",
      "0.425\n",
      "0.450\n",
      "0.475\n",
      "0.500\n",
      "0.525\n",
      "0.550\n",
      "0.575\n",
      "0.600\n",
      "0.625\n"
     ]
    }
   ],
   "source": [
    "#run cal_pytrec_eval.py files/touche2020-task2-relevance-withbaseline.qrel files/output_ntopics_50_False_False_False_base.run ndcg_cut_5 \n",
    "score=0\n",
    "while score<=0.65:\n",
    "    print(\"{:.3f}\".format(score))\n",
    "    score=score+0.025"
   ]
  },
  {
   "cell_type": "code",
   "execution_count": null,
   "metadata": {},
   "outputs": [],
   "source": []
  }
 ],
 "metadata": {
  "kernelspec": {
   "display_name": "Python (internetsuchmaschine)",
   "language": "python",
   "name": "internetsuchmaschine"
  },
  "language_info": {
   "codemirror_mode": {
    "name": "ipython",
    "version": 3
   },
   "file_extension": ".py",
   "mimetype": "text/x-python",
   "name": "python",
   "nbconvert_exporter": "python",
   "pygments_lexer": "ipython3",
   "version": "3.7.4"
  }
 },
 "nbformat": 4,
 "nbformat_minor": 2
}
