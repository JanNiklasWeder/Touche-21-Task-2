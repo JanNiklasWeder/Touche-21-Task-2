{
 "cells": [
  {
   "cell_type": "code",
   "execution_count": 1,
   "metadata": {},
   "outputs": [
    {
     "name": "stdout",
     "output_type": "stream",
     "text": [
      "{'bpref', 'num_ret', 'Rprec', 'set_relative_P', 'Rprec_mult', 'set_recall', 'recall', 'ndcg_cut', 'runid', 'set_F', 'Rndcg', 'utility', 'num_q', 'recip_rank', 'binG', 'iprec_at_recall', 'map', 'num_rel_ret', 'num_nonrel_judged_ret', 'relative_P', 'map_cut', 'relstring', 'ndcg_rel', 'set_P', 'num_rel', 'G', 'set_map', 'gm_bpref', 'P', '11pt_avg', 'ndcg', 'gm_map', 'success', 'infAP'}\n"
     ]
    }
   ],
   "source": [
    "import pytrec_eval\n",
    "import json\n",
    "print(pytrec_eval.supported_measures)"
   ]
  },
  {
   "cell_type": "code",
   "execution_count": 2,
   "metadata": {},
   "outputs": [
    {
     "name": "stdout",
     "output_type": "stream",
     "text": [
      "ndcg                     1       0.4381939647969662621207\n",
      "ndcg                     2       0.3787715557102577235149\n",
      "ndcg                     3       0.2352807202487262605572\n",
      "ndcg                     4       0.4513242617222624208928\n",
      "ndcg                     5       0.5335114927440564036587\n",
      "ndcg                     6       0.0000000000000000000000\n",
      "ndcg                     7       0.2269201872358422023002\n",
      "ndcg                     8       0.0000000000000000000000\n",
      "ndcg                     9       0.1458389461728095137794\n",
      "ndcg                     10      0.2340034344835504320770\n",
      "ndcg                     11      0.4188144871734845176015\n",
      "ndcg                     12      0.5169032494604014482675\n",
      "ndcg                     13      0.5240260529510492037986\n",
      "ndcg                     14      0.2773119297912265412975\n",
      "ndcg                     15      0.2686056763836821015268\n",
      "ndcg                     16      0.2491786674919008459650\n",
      "ndcg                     17      0.3323141326473024736998\n",
      "ndcg                     18      0.2830700762968629269345\n",
      "ndcg                     19      0.3932696062641423129236\n",
      "ndcg                     20      0.1374381664571454331192\n",
      "ndcg                     21      0.4435341480081341769548\n",
      "ndcg                     22      0.4372740758801634264330\n",
      "ndcg                     23      0.3828806730686568626787\n",
      "ndcg                     24      0.3736745428318645201315\n",
      "ndcg                     25      0.4051387744970902926589\n",
      "ndcg                     26      0.3218357715720951417460\n",
      "ndcg                     27      0.5484340078830709508395\n",
      "ndcg                     28      0.5664218983758315673072\n",
      "ndcg                     29      0.4120072044729012339381\n",
      "ndcg                     30      0.4154552282184726941239\n",
      "ndcg                     31      0.3715249829496780620275\n",
      "ndcg                     32      0.3489180843813960430921\n",
      "ndcg                     33      0.3371176086979100205987\n",
      "ndcg                     34      0.3874450385527694051824\n",
      "ndcg                     35      0.5032639615600136284712\n",
      "ndcg                     36      0.1868328860016532921851\n",
      "ndcg                     37      0.6053606539232432304232\n",
      "ndcg                     38      0.5155301583580342850155\n",
      "ndcg                     39      0.2308334397550164673873\n",
      "ndcg                     40      0.0562656190201980266341\n",
      "ndcg                     41      0.1273714087422960217211\n",
      "ndcg                     42      0.2830418738280837120946\n",
      "ndcg                     43      0.0809783599221797212309\n",
      "ndcg                     44      0.2490177544598433378997\n",
      "ndcg                     45      0.3839640160176206462594\n",
      "ndcg                     46      0.2187513829195428805008\n",
      "ndcg                     47      0.3039951447690034114224\n",
      "ndcg                     48      0.3497489799865197701578\n",
      "ndcg                     49      0.0000000000000000000000\n",
      "ndcg                     50      0.0000000000000000000000\n"
     ]
    }
   ],
   "source": [
    "run cal_pytrec_eval_cmd.py touche2020-task2-relevance-withbaseline.qrel output.run 'ndcg'"
   ]
  },
  {
   "cell_type": "code",
   "execution_count": null,
   "metadata": {},
   "outputs": [],
   "source": []
  }
 ],
 "metadata": {
  "kernelspec": {
   "display_name": "Python (internetsuchmaschine)",
   "language": "python",
   "name": "internetsuchmaschine"
  },
  "language_info": {
   "codemirror_mode": {
    "name": "ipython",
    "version": 3
   },
   "file_extension": ".py",
   "mimetype": "text/x-python",
   "name": "python",
   "nbconvert_exporter": "python",
   "pygments_lexer": "ipython3",
   "version": "3.7.4"
  }
 },
 "nbformat": 4,
 "nbformat_minor": 2
}
