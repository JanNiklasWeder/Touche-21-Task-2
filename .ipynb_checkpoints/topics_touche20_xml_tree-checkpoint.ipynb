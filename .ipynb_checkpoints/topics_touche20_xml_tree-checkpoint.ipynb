{
 "cells": [
  {
   "cell_type": "code",
   "execution_count": 37,
   "metadata": {},
   "outputs": [
    {
     "name": "stdout",
     "output_type": "stream",
     "text": [
      "1: What is the difference between sex and love?\n",
      "2: Which is better, a laptop or a desktop?\n",
      "3: Which is better, Canon or Nikon?\n",
      "4: What are the best dish detergents?\n",
      "5: What are the best cities to live in?\n",
      "6: What is the longest river in the U.S.?\n",
      "7: Which is healthiest: coffee, green tea or black tea and why?\n",
      "8: What are the advantages and disadvantages of PHP over Python and vice versa?\n",
      "9: Why is Linux better than Windows?\n",
      "10: How to sleep better?\n",
      "11: Should I buy an LCD TV or a plasma TV?\n",
      "12: Train or plane? Which is the better choice?\n",
      "13: What is the highest mountain on Earth?\n",
      "14: Should one prefer Chinese medicine or Western medicine?\n",
      "15: What are the best washing machine brands?\n",
      "16: Should I buy or rent?\n",
      "17: Do you prefer cats or dogs, and why?\n",
      "18: What is the better way to grill outdoors: gas or charcoal?\n",
      "19: Which is better, MAC or PC?\n",
      "20: What is better: to use a brush or a sponge?\n",
      "21: Which is better, Linux or Microsoft?\n",
      "22: Which is better, Pepsi or Coke?\n",
      "23: What is better, Google search or Yahoo search?\n",
      "24: Which one is better, Netflix or Blockbuster?\n",
      "25: Which browser is better, Internet Explorer or Firefox?\n",
      "26: Which is a better vehicle: BMW or Audi?\n",
      "27: Which one is better, an electric stove or a gas stove?\n",
      "28: What planes are best, Boeing or Airbus?\n",
      "29: Which is better, Disneyland or Disney World?\n",
      "30: Should I buy an Xbox or a PlayStation?\n",
      "31: Which has more caffeine, coffee or tea?\n",
      "32: Which is better, LED or LCD Reception Displays?\n",
      "33: What is better: ASP or PHP?\n",
      "34: What is better for the environment, a real or a fake Christmas tree?\n",
      "35: Do you prefer tampons or pads?\n",
      "36: What IDE is better for Java: NetBeans or Eclipse?\n",
      "37: Is OpenGL better than Direct3D in terms of portability to different platforms?\n",
      "38: What are the differences between MySQL and PostgreSQL in performance?\n",
      "39: Is Java code more readable than code written in Scala?\n",
      "40: Which operating system has better performance: Windows 7 or Windows 8?\n",
      "41: Which smartphone has a better battery life: Xperia or iPhone?\n",
      "42: Which four wheel truck is better: Ford or Toyota?\n",
      "43: Should I prefer a Leica camera over Nikon for portrait photographs?\n",
      "44: Which company has a larger capitalization: Apple or Microsoft?\n",
      "45: Which laptop has a better durability: HP or Dell?\n",
      "46: Which beverage has more calories per glass: beer or cider?\n",
      "47: Is admission rate in Stanford higher than that of MIT?\n",
      "48: Is pasta healthier than pizza?\n",
      "49: Which city is more expensive to live in: San Francisco or New York?\n",
      "50: Whose salary is higher: basketball or soccer players?\n"
     ]
    }
   ],
   "source": [
    "import xml.etree.ElementTree as ET\n",
    "tree = ET.parse('topics-task-2.xml')\n",
    "root = tree.getroot()\n",
    "topics_file = open('topics_touche20.txt', 'w')\n",
    "i = 1\n",
    "for title in root.iter('title'):\n",
    "    print(str(i) + \": \" + title.text.strip())\n",
    "    topics_file.write(title.text.strip()+\"\\n\")\n",
    "    i=i+1"
   ]
  },
  {
   "cell_type": "code",
   "execution_count": null,
   "metadata": {},
   "outputs": [],
   "source": []
  }
 ],
 "metadata": {
  "kernelspec": {
   "display_name": "Python 3",
   "language": "python",
   "name": "python3"
  },
  "language_info": {
   "codemirror_mode": {
    "name": "ipython",
    "version": 3
   },
   "file_extension": ".py",
   "mimetype": "text/x-python",
   "name": "python",
   "nbconvert_exporter": "python",
   "pygments_lexer": "ipython3",
   "version": "3.7.3"
  }
 },
 "nbformat": 4,
 "nbformat_minor": 2
}
