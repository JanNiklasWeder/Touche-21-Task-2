{
 "cells": [
  {
   "cell_type": "code",
   "execution_count": 1,
   "metadata": {},
   "outputs": [],
   "source": [
    "import pytrec_eval\n",
    "import json"
   ]
  },
  {
   "cell_type": "code",
   "execution_count": 3,
   "metadata": {},
   "outputs": [
    {
     "name": "stderr",
     "output_type": "stream",
     "text": [
      "usage: ipykernel_launcher.py [-h] qrels run\n",
      "ipykernel_launcher.py: error: the following arguments are required: run\n"
     ]
    },
    {
     "ename": "SystemExit",
     "evalue": "2",
     "output_type": "error",
     "traceback": [
      "An exception has occurred, use %tb to see the full traceback.\n",
      "\u001b[0;31mSystemExit\u001b[0m\u001b[0;31m:\u001b[0m 2\n"
     ]
    }
   ],
   "source": [
    "\"\"\"Approximately simulates trec_eval using pytrec_eval.\n",
    "\n",
    "import argparse\n",
    "import os\n",
    "import sys\n",
    "\n",
    "import pytrec_eval\n",
    "\n",
    "\n",
    "def main():\n",
    "    parser = argparse.ArgumentParser()\n",
    "\n",
    "    parser.add_argument('qrels')\n",
    "    parser.add_argument('run')\n",
    "\n",
    "    args = parser.parse_args()\n",
    "\n",
    "    assert os.path.exists(args.qrel)\n",
    "    assert os.path.exists(args.run)\n",
    "\n",
    "    with open(args.qrel, 'r') as f_qrel:\n",
    "        qrel = pytrec_eval.parse_qrel(f_qrel)\n",
    "\n",
    "    with open(args.run, 'r') as f_run:\n",
    "        run = pytrec_eval.parse_run(f_run)\n",
    "\n",
    "    evaluator = pytrec_eval.RelevanceEvaluator(\n",
    "        qrel, pytrec_eval.supported_measures)\n",
    "\n",
    "    results = evaluator.evaluate(run)\n",
    "\n",
    "    def print_line(measure, scope, value):\n",
    "        print('{:25s}{:8s}{:.4f}'.format(measure, scope, value))\n",
    "\n",
    "    for query_id, query_measures in sorted(results.items()):\n",
    "        for measure, value in sorted(query_measures.items()):\n",
    "            print_line(measure, query_id, value)\n",
    "\n",
    "    # Scope hack: use query_measures of last item in previous loop to\n",
    "    # figure out all unique measure names.\n",
    "    #\n",
    "    # TODO(cvangysel): add member to RelevanceEvaluator\n",
    "    #                  with a list of measure names.\n",
    "    for measure in sorted(query_measures.keys()):\n",
    "        print_line(\n",
    "            measure,\n",
    "            'all',\n",
    "            pytrec_eval.compute_aggregated_measure(\n",
    "                measure,\n",
    "                [query_measures[measure]\n",
    "                 for query_measures in results.values()]))\n",
    "\n",
    "if __name__ == \"__main__\":\n",
    "    sys.exit(main())\n",
    "\"\"\""
   ]
  },
  {
   "cell_type": "code",
   "execution_count": null,
   "metadata": {},
   "outputs": [],
   "source": []
  }
 ],
 "metadata": {
  "kernelspec": {
   "display_name": "Python (internetsuchmaschine)",
   "language": "python",
   "name": "internetsuchmaschine"
  },
  "language_info": {
   "codemirror_mode": {
    "name": "ipython",
    "version": 3
   },
   "file_extension": ".py",
   "mimetype": "text/x-python",
   "name": "python",
   "nbconvert_exporter": "python",
   "pygments_lexer": "ipython3",
   "version": "3.7.4"
  }
 },
 "nbformat": 4,
 "nbformat_minor": 2
}
