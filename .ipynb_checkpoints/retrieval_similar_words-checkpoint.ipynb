{
 "cells": [
  {
   "cell_type": "code",
   "execution_count": null,
   "metadata": {},
   "outputs": [],
   "source": [
    "import pytrec_eval\n",
    "import json"
   ]
  },
  {
   "cell_type": "code",
   "execution_count": 2,
   "metadata": {},
   "outputs": [],
   "source": [
    "import requests\n",
    "import xml.etree.ElementTree as ET\n",
    "import time\n",
    "from collections import Counter\n",
    "from itertools import chain\n",
    "import re\n",
    "import pandas as pd\n",
    "import numpy as np\n",
    "import os"
   ]
  },
  {
   "cell_type": "code",
   "execution_count": 3,
   "metadata": {},
   "outputs": [
    {
     "data": {
      "text/plain": [
       "50"
      ]
     },
     "execution_count": 3,
     "metadata": {},
     "output_type": "execute_result"
    }
   ],
   "source": [
    "def read_text(file_name):\n",
    "    f = open(file_name+\".txt\", \"r\")\n",
    "    return [e for e in f.read().split(\"\\n\\n\") if len(e)!=0]\n",
    "import_shored_topics = read_text(\"shorted_topics\")\n",
    "len(import_shored_topics)"
   ]
  },
  {
   "cell_type": "code",
   "execution_count": 8,
   "metadata": {},
   "outputs": [],
   "source": [
    "def base_api(topic, size):\n",
    "    url = 'https://www.chatnoir.eu/api/v1/_search'\n",
    "    request_data = {\n",
    "        \"apikey\": \"67fac2d9-0f98-4c19-aab0-18c848bfa130\",\n",
    "        \"query\": topic,\n",
    "        \"size\": size,\n",
    "        \"index\": [\"cw12\"],\n",
    "    }\n",
    "    def chatnoir_req():\n",
    "        try:\n",
    "            response_=requests.post(url, data=request_data)\n",
    "            response_.raise_for_status()\n",
    "            return response_.json()\n",
    "        except requests.exceptions.HTTPError:\n",
    "            time.sleep(1)\n",
    "            return chatnoir_req()    \n",
    "    resp = chatnoir_req()\n",
    "    docs = resp['results']\n",
    "    return {'results':sorted(docs,key= lambda doc: doc['score'], reverse=True)}\n",
    "    \n",
    "def base_main(size, file_name):\n",
    "    topics = read_text(file_name)\n",
    "    print(topics[0])\n",
    "    out = open(\"data_sense2vec/\"+file_name+\".run\", \"w\")\n",
    "    answers = []\n",
    "    index = 1\n",
    "    for topic in topics:\n",
    "        print(\"Getting response for\", topic)\n",
    "        answers.append(base_api(topic, size))\n",
    "        index=index+1\n",
    "        \n",
    "    topicId = 1\n",
    "    for topic in answers:\n",
    "        rank = 1\n",
    "        for response in topic['results']:\n",
    "            buffer = topicId, \"Q0\", response['trec_id'], rank, response['score'], \"JackSparrowVanilla\"\n",
    "            out.write(\" \".join(map(str, buffer)) + \"\\n\")\n",
    "            rank += 1\n",
    "        topicId += 1"
   ]
  },
  {
   "cell_type": "code",
   "execution_count": 12,
   "metadata": {},
   "outputs": [
    {
     "name": "stdout",
     "output_type": "stream",
     "text": [
      "What is the difference between sex and love? sexual true just deep massive actual big only large real partner\n",
      "Getting response for What is the difference between sex and love? sexual true just deep massive actual big only large real partner\n",
      "Getting response for Which is better, a laptop or a desktop? PC pc chromebook netbook computer Chromebook Windows\n",
      "Getting response for Which is better, Canon or Nikon? 7D Pentax 60D Minolta 6D D750\n",
      "Getting response for What are the best dish detergents? soup oils surfactants noodles sauce sulfates seasoning sauces chemicals harsh shampoos\n",
      "Getting response for What are the best cities to live in? towns many small major large\n",
      "Getting response for What is the longest river in the U.S.? small USA. US. lake shoreline USA US shore creek\n",
      "Getting response for Which is healthiest: coffee, green tea or black tea and why? gray hot orange white grey red chocolate yellow brown blue earl iced tea/coffee cold\n",
      "Getting response for What are the advantages and disadvantages of PHP over Python and vice versa? Ipso many drawbacks Java visa certain own Javascript JavaScript other vice-versa more\n",
      "Getting response for Why is Linux better than Windows? \n",
      "Getting response for How to sleep better? bed nap wake\n",
      "Getting response for Should I buy an LCD TV or a plasma TV? laser t.v lasers T.V. purchase resell sell ion T.V\n",
      "Getting response for Train or plane? Which is the better choice? choose helicopter airliner choosing small own Training airplane training commercial personal\n",
      "Getting response for What is the highest mountain on Earth? dunes System planet canyon earth lake Solar solar mountainside system\n",
      "Getting response for Should one prefer Chinese medicine or Western medicine? perfer pharmaceuticals 320GB Canadian Digital Japanese dentistry western like real \\*Western Korean Caviar\n",
      "Getting response for What are the best washing machine brands? many rinsing entire certain Washing computer other major scrubbing popular whole\n",
      "Getting response for Should I buy or rent? purchase resell sell\n",
      "Getting response for Do you prefer cats or dogs, and why? kittens small perfer ferrets beagles like puppies bunnies\n",
      "Getting response for What is the better way to grill outdoors: gas or charcoal? cook diesel fuel chips actually gasoline it petrol wood braise grilling just indoors sawdust roast that way-\n",
      "Getting response for Which is better, MAC or PC? NYX console Prolongwear Sephora ELF\n",
      "Getting response for What is better: to use a brush or a sponge? ball goop layer petroleum small wet jelly cotton little thin bristles\n",
      "Getting response for Which is better, Linux or Microsoft? MS MSFT microsoft Windows\n",
      "Getting response for Which is better, Pepsi or Coke? Coca-Cola RC Dr Diet Pepper Cola Dr.\n",
      "Getting response for What is better, Google search or Yahoo search? obviously yahoo not its seems\n",
      "Getting response for Which one is better, Netflix or Blockbuster? anybody someone anyone anything nobody\n",
      "Getting response for Which browser is better, Internet Explorer or Firefox? Google Chrome web\n",
      "Getting response for Which is a better vehicle: BMW or Audi? passenger Toyota Infiniti said Lexus Porsche own other car\n",
      "Getting response for Which one is better, an electric stove or a gas stove? Electric hot diesel anyone anything fuel someone gasoline petrol anybody plate stovetop electricity microwave nobody\n",
      "Getting response for What planes are best, Boeing or Airbus? aircrafts Martin helicopters Lockheed airplanes 737 A320 jets SpaceX passenger airliners boeing airbus\n",
      "Getting response for Which is better, Disneyland or Disney World? \n",
      "Getting response for Should I buy an Xbox or a PlayStation? PS2 N64 purchase XBOX Playstation resell sell\n",
      "Getting response for Which has more caffeine, coffee or tea? been hot stimulants grey caffine black already since because caffiene despite other chocolate stimulant earl iced tea/coffee cold\n",
      "Getting response for Which is better, LED or LCD Reception Displays? Select Screen Devices Gestures\n",
      "Getting response for What is better: ASP or PHP? \n",
      "Getting response for What is better for the environment, a real or a fake Christmas tree? enviroment Xmas local phony sapling current enviornment small pine staged big christmas last own\n",
      "Getting response for Do you prefer tampons or pads? feminine products velcro perfer cup like pads/tampons menstrual inserts new\n",
      "Getting response for What IDE is better for Java: NetBeans or Eclipse? PHPStorm IntelliJ. IDEs Netbeans IntelliJ\n",
      "Getting response for Is OpenGL better than Direct3D in terms of portability to different platforms? DirectX multiple aspects OpenGL. most factor small regards similar differs other various same openGL portable regard matter dissimilar DirectX. more\n",
      "Getting response for What are the differences between MySQL and PostgreSQL in performance? perfomance Postgres many small preformance actual big MongoDB huge performace real overall\n",
      "Getting response for Is Java code more readable than code written in Scala? writen Haskell entire illegible only new unreadable editable actual C++ C#. PHP. verbose other Clojure legible\n",
      "Getting response for Which operating system has better performance: Windows 7 or Windows 8? been 9 entire 11 preformance actual whole already since 6 overall perfomance because operations enterprise operation despite other systems performace 10\n",
      "Getting response for Which smartphone has a better battery life: Xperia or iPhone? been phones good internal iPad tablet current already since small because life- despite other lithium own android mobile Android future Sony\n",
      "Getting response for Which four wheel truck is better: Ford or Toyota? Honda Chevy pickup six front steering eight Nissan Chevrolet Cadillac Acura three SUV car Hyundai rear Chrysler BMW work seven two jeep\n",
      "Getting response for Should I prefer a Leica camera over Nikon for portrait photographs? perfer like view Pentax self-portrait DSLR pictures finder actual Minolta black phone just cell photos square 60D other Canon D750 viewfinder DSLR. SLR\n",
      "Getting response for Which company has a larger capitalization: Apple or Microsoft? been MS business even corporation major already since punctuation Windows because commas BlackBerry MSFT apostrophes big despite Blackberry microsoft &gt;Apple capitalisation proper\n",
      "Getting response for Which laptop has a better durability: HP or Dell? been desktop netbook Lenovo DELL Toshiba computer already Acer since overall PC because despite great pc hp Hp durabilty more\n",
      "Getting response for Which beverage has more calories per glass: beer or cider? been kcals cup extra whiskey soft already since because despite drink net plastic wine bottle coffee daily hard mead apple bourbon\n",
      "Getting response for Is admission rate in Stanford higher than that of MIT? Northwestern Georgia actual UC Purdue scholarship admittance increases Caltech increase UCLA average Harvard misconduct Berkeley Tech academic\n",
      "Getting response for Is pasta healthier than pizza? tortillas burger tofu noodles sandwich risotto burrito pesto burritos nachos\n",
      "Getting response for Which city is more expensive to live in: San Francisco or New York? cheap affordable cheaper small little town whole large\n",
      "Getting response for Whose salary is higher: basketball or soccer players? bball lacrosse rugby certain ice hockey few football/soccer current american other annual many yearly football base\n"
     ]
    }
   ],
   "source": [
    "base_main(15, 'expanded_topics')"
   ]
  },
  {
   "cell_type": "code",
   "execution_count": 11,
   "metadata": {},
   "outputs": [
    {
     "name": "stdout",
     "output_type": "stream",
     "text": [
      "ndcg_cut_5               1       0.0000000000000000000000\n",
      "ndcg_cut_5               2       0.0000000000000000000000\n",
      "ndcg_cut_5               5       0.0000000000000000000000\n",
      "ndcg_cut_5               6       0.0000000000000000000000\n",
      "ndcg_cut_5               7       0.0000000000000000000000\n",
      "ndcg_cut_5               9       0.0000000000000000000000\n",
      "ndcg_cut_5               10      0.0000000000000000000000\n",
      "ndcg_cut_5               12      0.0000000000000000000000\n",
      "ndcg_cut_5               13      0.0000000000000000000000\n",
      "ndcg_cut_5               15      0.0000000000000000000000\n",
      "ndcg_cut_5               16      0.0000000000000000000000\n",
      "ndcg_cut_5               21      0.0000000000000000000000\n",
      "ndcg_cut_5               22      0.1695801026368080610673\n",
      "ndcg_cut_5               23      0.0000000000000000000000\n",
      "ndcg_cut_5               24      0.0000000000000000000000\n",
      "ndcg_cut_5               25      0.0000000000000000000000\n",
      "ndcg_cut_5               26      0.0000000000000000000000\n",
      "ndcg_cut_5               29      0.3629720962877412415715\n",
      "ndcg_cut_5               30      0.0000000000000000000000\n",
      "ndcg_cut_5               32      0.0000000000000000000000\n",
      "ndcg_cut_5               33      0.4852285551163225685301\n",
      "ndcg_cut_5               36      0.0000000000000000000000\n",
      "ndcg_cut_5               41      0.0000000000000000000000\n",
      "ndcg_cut_5               42      0.0000000000000000000000\n",
      "ndcg_cut_5               48      0.0000000000000000000000\n",
      "ndcg_cut_5               49      0.1266316770532765201285\n",
      "[0.0, 0.0, 0.0, 0.0, 0.0, 0.0, 0.0, 0.0, 0.0, 0.0, 0.0, 0.0, 0.16958010263680806, 0.0, 0.0, 0.0, 0.0, 0.36297209628774124, 0.0, 0.0, 0.48522855511632257, 0.0, 0.0, 0.0, 0.0, 0.12663167705327652]\n",
      "0.04401586273439032\n",
      " avg of nDCG 0.044016\n"
     ]
    }
   ],
   "source": [
    "run cal_pytrec_eval.py data_sense2vec/touche2020-task2-relevance-withbaseline.qrel data_sense2vec/shorted_topics.run 'ndcg_cut_5'"
   ]
  },
  {
   "cell_type": "code",
   "execution_count": 13,
   "metadata": {},
   "outputs": [
    {
     "name": "stdout",
     "output_type": "stream",
     "text": [
      "ndcg_cut_5               1       0.0000000000000000000000\n",
      "ndcg_cut_5               2       0.0000000000000000000000\n",
      "ndcg_cut_5               5       0.0000000000000000000000\n",
      "ndcg_cut_5               6       0.0000000000000000000000\n",
      "ndcg_cut_5               9       0.3082168163143321759634\n",
      "ndcg_cut_5               10      0.5965459277154548933808\n",
      "ndcg_cut_5               12      0.0000000000000000000000\n",
      "ndcg_cut_5               13      0.0000000000000000000000\n",
      "ndcg_cut_5               15      0.0000000000000000000000\n",
      "ndcg_cut_5               16      0.0000000000000000000000\n",
      "ndcg_cut_5               21      0.0000000000000000000000\n",
      "ndcg_cut_5               22      0.3391602052736161221347\n",
      "ndcg_cut_5               23      0.0000000000000000000000\n",
      "ndcg_cut_5               24      0.0000000000000000000000\n",
      "ndcg_cut_5               25      0.3391602052736161221347\n",
      "ndcg_cut_5               26      0.0730341749213532231977\n",
      "ndcg_cut_5               29      0.5919819915518812480926\n",
      "ndcg_cut_5               30      0.0000000000000000000000\n",
      "ndcg_cut_5               32      0.0000000000000000000000\n",
      "ndcg_cut_5               33      0.8304198973631919944438\n",
      "ndcg_cut_5               36      0.0000000000000000000000\n",
      "ndcg_cut_5               41      0.0000000000000000000000\n",
      "ndcg_cut_5               42      0.0000000000000000000000\n",
      "ndcg_cut_5               48      0.0000000000000000000000\n",
      "ndcg_cut_5               49      0.2532633541065530402570\n",
      "[0.0, 0.0, 0.0, 0.0, 0.3082168163143322, 0.5965459277154549, 0.0, 0.0, 0.0, 0.0, 0.0, 0.3391602052736161, 0.0, 0.0, 0.3391602052736161, 0.07303417492135322, 0.5919819915518812, 0.0, 0.0, 0.830419897363192, 0.0, 0.0, 0.0, 0.0, 0.25326335410655304]\n",
      "0.13327130290079994\n",
      " avg of nDCG 0.133271\n"
     ]
    }
   ],
   "source": [
    "run cal_pytrec_eval.py data_sense2vec/touche2020-task2-relevance-withbaseline.qrel data_sense2vec/expanded_topics.run 'ndcg_cut_5'"
   ]
  },
  {
   "cell_type": "code",
   "execution_count": null,
   "metadata": {},
   "outputs": [],
   "source": []
  }
 ],
 "metadata": {
  "kernelspec": {
   "display_name": "Python (internetsuchmaschine)",
   "language": "python",
   "name": "internetsuchmaschine"
  },
  "language_info": {
   "codemirror_mode": {
    "name": "ipython",
    "version": 3
   },
   "file_extension": ".py",
   "mimetype": "text/x-python",
   "name": "python",
   "nbconvert_exporter": "python",
   "pygments_lexer": "ipython3",
   "version": "3.7.4"
  }
 },
 "nbformat": 4,
 "nbformat_minor": 4
}
