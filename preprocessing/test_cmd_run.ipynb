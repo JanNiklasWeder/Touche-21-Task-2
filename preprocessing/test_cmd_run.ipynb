{
 "cells": [
  {
   "cell_type": "code",
   "execution_count": null,
   "metadata": {},
   "outputs": [
    {
     "name": "stdout",
     "output_type": "stream",
     "text": [
      "\"2.25;2.0;1.75\"\n",
      "python main_retrieval.py topics-task-2.xml 50 15 True False True True \"2.25;2.0;1.75\" max\n",
      "22520175\n",
      "python cal_pytrec_eval.py files/touche2020-task2-relevance-withbaseline.qrel files/output_ntopics_50_True_False_True_True_22520175_max.run ndcg_cut_5\n",
      "\"2.5;2.0;1.75\"\n",
      "python main_retrieval.py topics-task-2.xml 50 15 True False True True \"2.5;2.0;1.75\" max\n",
      "2520175\n",
      "python cal_pytrec_eval.py files/touche2020-task2-relevance-withbaseline.qrel files/output_ntopics_50_True_False_True_True_2520175_max.run ndcg_cut_5\n",
      "\"2.75;2.0;1.75\"\n",
      "python main_retrieval.py topics-task-2.xml 50 15 True False True True \"2.75;2.0;1.75\" max\n"
     ]
    }
   ],
   "source": [
    "import os\n",
    "i= 1.75 #i=1 bis 1.5 breits fertig bearbeitet\n",
    "while i<=2:\n",
    "    j=i+0.25\n",
    "    while j<=2:\n",
    "        k = j+0.25\n",
    "        while k <=(j+0.75):\n",
    "            weights=str(k)+\";\"+str(j)+\";\"+str(i)\n",
    "            print('\"'+weights+'\"')\n",
    "            cmd_1 = 'python main_retrieval.py topics-task-2.xml 50 15 True False True True '+ '\"'+weights+'\"' + ' max'\n",
    "            print(cmd_1)\n",
    "            os.system(cmd_1)\n",
    "            for e in [';','.']:\n",
    "                weights = weights.replace(e,'')\n",
    "            print(weights)\n",
    "            cmd_2 = cmd = 'python cal_pytrec_eval.py files/touche2020-task2-relevance-withbaseline.qrel files/output_ntopics_50_True_False_True_True_'+weights+'_max.run ndcg_cut_5'\n",
    "            print(cmd_2)\n",
    "            os.system(cmd_2)\n",
    "            k = k + 0.25\n",
    "        j = j + 0.25\n",
    "    i=i+0.25"
   ]
  },
  {
   "cell_type": "code",
   "execution_count": null,
   "metadata": {},
   "outputs": [],
   "source": [
    "run main_retrieval.py topics-task-2.xml 50 15 True False True True 2.75;2.0;1.75 max"
   ]
  },
  {
   "cell_type": "code",
   "execution_count": 1,
   "metadata": {
    "scrolled": true
   },
   "outputs": [
    {
     "name": "stdout",
     "output_type": "stream",
     "text": [
      "1.5;1.25;1\n",
      "1.75;1.25;1\n",
      "2.0;1.25;1\n",
      "1.75;1.5;1\n",
      "2.0;1.5;1\n",
      "2.25;1.5;1\n",
      "2.0;1.75;1\n",
      "2.25;1.75;1\n",
      "2.5;1.75;1\n",
      "2.25;2.0;1\n",
      "2.5;2.0;1\n",
      "2.75;2.0;1\n",
      "1.75;1.5;1.25\n",
      "2.0;1.5;1.25\n",
      "2.25;1.5;1.25\n",
      "2.0;1.75;1.25\n",
      "2.25;1.75;1.25\n",
      "2.5;1.75;1.25\n",
      "2.25;2.0;1.25\n",
      "2.5;2.0;1.25\n",
      "2.75;2.0;1.25\n",
      "2.0;1.75;1.5\n",
      "2.25;1.75;1.5\n",
      "2.5;1.75;1.5\n",
      "2.25;2.0;1.5\n",
      "2.5;2.0;1.5\n",
      "2.75;2.0;1.5\n",
      "2.25;2.0;1.75\n",
      "2.5;2.0;1.75\n",
      "2.75;2.0;1.75\n"
     ]
    }
   ],
   "source": [
    "import os\n",
    "i= 1\n",
    "while i<=2:\n",
    "    j=i+0.25\n",
    "    while j<=2:\n",
    "        k = j+0.25\n",
    "        while k <=j+0.75:\n",
    "            weights=str(k)+\";\"+str(j)+\";\"+str(i)\n",
    "            print(weights)\n",
    "            for e in [';','.']:\n",
    "                weights = weights.replace(e,'')\n",
    "            \n",
    "            cmd_2 = 'python cal_pytrec_eval.py files/touche2020-task2-relevance-withbaseline.qrel files/output_ntopics_50_True_False_True_True_'+weights+'_max.run ndcg_cut_5'\n",
    "            #print(cmd_2)\n",
    "            os.system(cmd_2)\n",
    "            k = k + 0.25\n",
    "        j = j + 0.25\n",
    "    i=i+0.25"
   ]
  },
  {
   "cell_type": "code",
   "execution_count": null,
   "metadata": {},
   "outputs": [],
   "source": [
    "avg of nDCG 0.567621\n",
    "avg of nDCG 0.569741\n",
    "avg of nDCG 0.570092\n",
    "avg of nDCG 0.564162\n",
    "avg of nDCG 0.573502\n",
    "avg of nDCG 0.570092\n",
    "avg of nDCG 0.562758\n",
    "avg of nDCG 0.574949\n",
    "avg of nDCG 0.569741\n",
    "avg of nDCG 0.561372\n",
    "avg of nDCG 0.572176\n",
    "avg of nDCG 0.569741\n",
    "avg of nDCG 0.564162\n",
    "avg of nDCG 0.573502\n",
    "avg of nDCG 0.570092\n",
    "avg of nDCG 0.562758\n",
    "avg of nDCG 0.574949\n",
    "avg of nDCG 0.569741\n",
    "avg of nDCG 0.561372\n",
    "avg of nDCG 0.572176\n",
    "avg of nDCG 0.569741\n",
    "avg of nDCG 0.562413\n",
    "avg of nDCG 0.574949\n",
    "avg of nDCG 0.569741\n",
    "avg of nDCG 0.561372\n",
    "avg of nDCG 0.572176\n",
    "avg of nDCG 0.569741"
   ]
  }
 ],
 "metadata": {
  "kernelspec": {
   "display_name": "Python (internetsuchmaschine)",
   "language": "python",
   "name": "internetsuchmaschine"
  },
  "language_info": {
   "codemirror_mode": {
    "name": "ipython",
    "version": 3
   },
   "file_extension": ".py",
   "mimetype": "text/x-python",
   "name": "python",
   "nbconvert_exporter": "python",
   "pygments_lexer": "ipython3",
   "version": "3.7.4"
  }
 },
 "nbformat": 4,
 "nbformat_minor": 4
}
