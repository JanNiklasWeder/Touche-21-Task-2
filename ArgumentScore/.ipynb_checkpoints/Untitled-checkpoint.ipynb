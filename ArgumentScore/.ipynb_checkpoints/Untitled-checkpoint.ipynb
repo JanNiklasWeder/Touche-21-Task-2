{
 "cells": [
  {
   "cell_type": "code",
   "execution_count": 13,
   "metadata": {},
   "outputs": [],
   "source": [
    "import requests\n",
    "import json\n",
    "import regex as re\n",
    "import time\n",
    "\n",
    "#Model Name: targer = classifyWD, classifyNewWD, classifyWD_dep\n",
    "\n",
    "\n",
    "#targer_model = \"classifyWD\"\n",
    "#global underscore\n",
    "#underscore = \"0.55\"\n",
    "\n",
    "class ArgumentScore:\n",
    "    #doc must be preprocessed bevor argument score. See SimilarityScore\n",
    "    #needArgument describes argumentative topic\n",
    "        \n",
    "\n",
    "    def __init__(self, needArgument: bool, doc: str, targer_model_name: str, underscore: float):\n",
    "        \n",
    "        self.doc = doc\n",
    "        self.needArgument = needArgument\n",
    "        self.targer_model = targer_model_name\n",
    "\n",
    "        self.underscore = underscore\n",
    "        \n",
    "    def get_argument_score(self):\n",
    "        \n",
    "        if self.needArgument:\n",
    "            resp = self.response_targer_api()\n",
    "\n",
    "            if self.targer_model!=\"classifyNewWD\":\n",
    "                count_arg_labels=0\n",
    "                sum_probs=0.0\n",
    "                arg_labels_probas=[]\n",
    "                for ents_list in resp:\n",
    "                    for ent in ents_list:\n",
    "                        if ent['label'].endswith(\"-B\") or ent['label'].endswith(\"-I\"):\n",
    "                            count_arg_labels += 1\n",
    "                            sum_probs = sum_probs + float(ent['prob'])\n",
    "                            arg_labels_probas.append((ent['label'],ent['prob']))\n",
    "                if count_arg_labels==0:\n",
    "                    return 0\n",
    "                else:\n",
    "                    avg_argScore = sum_probs/count_arg_labels\n",
    "                    if avg_argScore<=float(self.underscore):\n",
    "                        return 0\n",
    "                    else:\n",
    "                        return avg_argScore #arg_labels_probas\n",
    "            else:\n",
    "                count_arg_labels=0\n",
    "                for ents_list in resp:\n",
    "                    for ent in ents_list:\n",
    "                        if ent['label'].endswith(\"-B\") or ent['label'].endswith(\"-I\"):\n",
    "                            count_arg_labels += 1\n",
    "                avg_argScore = count_arg_labels/len(resp)\n",
    "                if avg_argScore<=float(underscore):\n",
    "                    return 0\n",
    "                else:\n",
    "                    return avg_argScore #arg_labels_probas\n",
    "\n",
    "\n",
    "    def response_targer_api(self):\n",
    "        \n",
    "        payload=self.doc #doc already removed all special characters\n",
    "\n",
    "        url = \"https://demo.webis.de/targer-api/\"+self.targer_model\n",
    "        headers = {\n",
    "            'Content-Type': 'text/plain'\n",
    "        }\n",
    "        \n",
    "        def targer():\n",
    "            try:\n",
    "                response = requests.request(\"POST\", url, headers=headers, data=payload.encode('utf-8'))\n",
    "                response.raise_for_status()\n",
    "                return response.json()\n",
    "            except requests.exceptions.HTTPError:\n",
    "                time.sleep(1)\n",
    "                return targer()\n",
    "        \n",
    "        response = targer()\n",
    "        return response"
   ]
  },
  {
   "cell_type": "code",
   "execution_count": 14,
   "metadata": {},
   "outputs": [
    {
     "data": {
      "text/plain": [
       "0.46415083"
      ]
     },
     "execution_count": 14,
     "metadata": {},
     "output_type": "execute_result"
    }
   ],
   "source": [
    "ArgumentScore(True, \"i think laptop is more useful then desktop. It is comfortable\",\"classifyWD\",0.0).get_argument_score()"
   ]
  },
  {
   "cell_type": "code",
   "execution_count": null,
   "metadata": {},
   "outputs": [],
   "source": []
  }
 ],
 "metadata": {
  "kernelspec": {
   "display_name": "Python (internetsuchmaschine)",
   "language": "python",
   "name": "internetsuchmaschine"
  },
  "language_info": {
   "codemirror_mode": {
    "name": "ipython",
    "version": 3
   },
   "file_extension": ".py",
   "mimetype": "text/x-python",
   "name": "python",
   "nbconvert_exporter": "python",
   "pygments_lexer": "ipython3",
   "version": "3.7.4"
  }
 },
 "nbformat": 4,
 "nbformat_minor": 4
}
