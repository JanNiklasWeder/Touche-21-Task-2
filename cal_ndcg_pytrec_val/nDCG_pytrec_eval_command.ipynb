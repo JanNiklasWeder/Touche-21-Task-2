{
 "cells": [
  {
   "cell_type": "code",
   "execution_count": 20,
   "metadata": {},
   "outputs": [
    {
     "name": "stdout",
     "output_type": "stream",
     "text": [
      "{'map_cut', 'num_ret', 'relative_P', 'ndcg_cut', 'G', 'Rprec', 'iprec_at_recall', 'num_nonrel_judged_ret', 'bpref', 'P', 'recall', 'Rprec_mult', '11pt_avg', 'runid', 'Rndcg', 'set_P', 'success', 'map', 'ndcg_rel', 'num_rel', 'utility', 'relstring', 'ndcg', 'infAP', 'set_relative_P', 'binG', 'set_F', 'recip_rank', 'set_map', 'gm_map', 'gm_bpref', 'set_recall', 'num_rel_ret', 'num_q'}\n"
     ]
    }
   ],
   "source": [
    "import pytrec_eval\n",
    "import json\n",
    "print(pytrec_eval.supported_measures)"
   ]
  },
  {
   "cell_type": "code",
   "execution_count": 21,
   "metadata": {},
   "outputs": [
    {
     "name": "stdout",
     "output_type": "stream",
     "text": [
      "{'1': {'ndcg': 0.0}, '2': {'ndcg': 0.0}, '3': {'ndcg': 0.0}, '4': {'ndcg': 0.0}, '5': {'ndcg': 0.0}, '6': {'ndcg': 0.0}, '7': {'ndcg': 0.0}, '8': {'ndcg': 0.0}, '9': {'ndcg': 0.0}, '10': {'ndcg': 0.0}, '11': {'ndcg': 0.0}, '12': {'ndcg': 0.0}, '13': {'ndcg': 0.0}, '14': {'ndcg': 0.0}, '15': {'ndcg': 0.0}, '16': {'ndcg': 0.0}, '17': {'ndcg': 0.0}, '18': {'ndcg': 0.0}, '19': {'ndcg': 0.0}, '20': {'ndcg': 0.0}, '21': {'ndcg': 0.0}, '22': {'ndcg': 0.0}, '23': {'ndcg': 0.0}, '24': {'ndcg': 0.0}, '25': {'ndcg': 0.0}, '26': {'ndcg': 0.0}, '27': {'ndcg': 0.0}, '28': {'ndcg': 0.0}, '29': {'ndcg': 0.0}, '30': {'ndcg': 0.0}, '31': {'ndcg': 0.0}, '32': {'ndcg': 0.0}, '33': {'ndcg': 0.0}, '34': {'ndcg': 0.0}, '35': {'ndcg': 0.0}, '36': {'ndcg': 0.0}, '37': {'ndcg': 0.0}, '38': {'ndcg': 0.0}, '39': {'ndcg': 0.0}, '40': {'ndcg': 0.0}, '41': {'ndcg': 0.0}, '42': {'ndcg': 0.0}, '43': {'ndcg': 0.0}, '44': {'ndcg': 0.0}, '45': {'ndcg': 0.0}, '46': {'ndcg': 0.0}, '47': {'ndcg': 0.0}, '48': {'ndcg': 0.0}, '49': {'ndcg': 0.0}, '50': {'ndcg': 0.0}}\n",
      "{'ndcg': 0.0}\n",
      "ndcg                     1       0.0000000000000000000000\n",
      "{'ndcg': 0.0}\n",
      "ndcg                     10      0.0000000000000000000000\n",
      "{'ndcg': 0.0}\n",
      "ndcg                     11      0.0000000000000000000000\n",
      "{'ndcg': 0.0}\n",
      "ndcg                     12      0.0000000000000000000000\n",
      "{'ndcg': 0.0}\n",
      "ndcg                     13      0.0000000000000000000000\n",
      "{'ndcg': 0.0}\n",
      "ndcg                     14      0.0000000000000000000000\n",
      "{'ndcg': 0.0}\n",
      "ndcg                     15      0.0000000000000000000000\n",
      "{'ndcg': 0.0}\n",
      "ndcg                     16      0.0000000000000000000000\n",
      "{'ndcg': 0.0}\n",
      "ndcg                     17      0.0000000000000000000000\n",
      "{'ndcg': 0.0}\n",
      "ndcg                     18      0.0000000000000000000000\n",
      "{'ndcg': 0.0}\n",
      "ndcg                     19      0.0000000000000000000000\n",
      "{'ndcg': 0.0}\n",
      "ndcg                     2       0.0000000000000000000000\n",
      "{'ndcg': 0.0}\n",
      "ndcg                     20      0.0000000000000000000000\n",
      "{'ndcg': 0.0}\n",
      "ndcg                     21      0.0000000000000000000000\n",
      "{'ndcg': 0.0}\n",
      "ndcg                     22      0.0000000000000000000000\n",
      "{'ndcg': 0.0}\n",
      "ndcg                     23      0.0000000000000000000000\n",
      "{'ndcg': 0.0}\n",
      "ndcg                     24      0.0000000000000000000000\n",
      "{'ndcg': 0.0}\n",
      "ndcg                     25      0.0000000000000000000000\n",
      "{'ndcg': 0.0}\n",
      "ndcg                     26      0.0000000000000000000000\n",
      "{'ndcg': 0.0}\n",
      "ndcg                     27      0.0000000000000000000000\n",
      "{'ndcg': 0.0}\n",
      "ndcg                     28      0.0000000000000000000000\n",
      "{'ndcg': 0.0}\n",
      "ndcg                     29      0.0000000000000000000000\n",
      "{'ndcg': 0.0}\n",
      "ndcg                     3       0.0000000000000000000000\n",
      "{'ndcg': 0.0}\n",
      "ndcg                     30      0.0000000000000000000000\n",
      "{'ndcg': 0.0}\n",
      "ndcg                     31      0.0000000000000000000000\n",
      "{'ndcg': 0.0}\n",
      "ndcg                     32      0.0000000000000000000000\n",
      "{'ndcg': 0.0}\n",
      "ndcg                     33      0.0000000000000000000000\n",
      "{'ndcg': 0.0}\n",
      "ndcg                     34      0.0000000000000000000000\n",
      "{'ndcg': 0.0}\n",
      "ndcg                     35      0.0000000000000000000000\n",
      "{'ndcg': 0.0}\n",
      "ndcg                     36      0.0000000000000000000000\n",
      "{'ndcg': 0.0}\n",
      "ndcg                     37      0.0000000000000000000000\n",
      "{'ndcg': 0.0}\n",
      "ndcg                     38      0.0000000000000000000000\n",
      "{'ndcg': 0.0}\n",
      "ndcg                     39      0.0000000000000000000000\n",
      "{'ndcg': 0.0}\n",
      "ndcg                     4       0.0000000000000000000000\n",
      "{'ndcg': 0.0}\n",
      "ndcg                     40      0.0000000000000000000000\n",
      "{'ndcg': 0.0}\n",
      "ndcg                     41      0.0000000000000000000000\n",
      "{'ndcg': 0.0}\n",
      "ndcg                     42      0.0000000000000000000000\n",
      "{'ndcg': 0.0}\n",
      "ndcg                     43      0.0000000000000000000000\n",
      "{'ndcg': 0.0}\n",
      "ndcg                     44      0.0000000000000000000000\n",
      "{'ndcg': 0.0}\n",
      "ndcg                     45      0.0000000000000000000000\n",
      "{'ndcg': 0.0}\n",
      "ndcg                     46      0.0000000000000000000000\n",
      "{'ndcg': 0.0}\n",
      "ndcg                     47      0.0000000000000000000000\n",
      "{'ndcg': 0.0}\n",
      "ndcg                     48      0.0000000000000000000000\n",
      "{'ndcg': 0.0}\n",
      "ndcg                     49      0.0000000000000000000000\n",
      "{'ndcg': 0.0}\n",
      "ndcg                     5       0.0000000000000000000000\n",
      "{'ndcg': 0.0}\n",
      "ndcg                     50      0.0000000000000000000000\n",
      "{'ndcg': 0.0}\n",
      "ndcg                     6       0.0000000000000000000000\n",
      "{'ndcg': 0.0}\n",
      "ndcg                     7       0.0000000000000000000000\n",
      "{'ndcg': 0.0}\n",
      "ndcg                     8       0.0000000000000000000000\n",
      "{'ndcg': 0.0}\n",
      "ndcg                     9       0.0000000000000000000000\n"
     ]
    }
   ],
   "source": [
    "run cal_pytrec_eval_cmd.py touche2020-task2-relevance-withbaseline.qrel output.run 'ndcg'"
   ]
  },
  {
   "cell_type": "code",
   "execution_count": null,
   "metadata": {},
   "outputs": [],
   "source": []
  }
 ],
 "metadata": {
  "kernelspec": {
   "display_name": "Python (internetsuchmaschine)",
   "language": "python",
   "name": "internetsuchmaschine"
  },
  "language_info": {
   "codemirror_mode": {
    "name": "ipython",
    "version": 3
   },
   "file_extension": ".py",
   "mimetype": "text/x-python",
   "name": "python",
   "nbconvert_exporter": "python",
   "pygments_lexer": "ipython3",
   "version": "3.7.4"
  }
 },
 "nbformat": 4,
 "nbformat_minor": 2
}
