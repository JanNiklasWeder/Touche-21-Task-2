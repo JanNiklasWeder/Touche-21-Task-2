{
 "cells": [
  {
   "cell_type": "code",
   "execution_count": null,
   "metadata": {},
   "outputs": [],
   "source": [
    "with open('data/generated_texts.txt') as f:\n",
    "    lines = f.read()\n",
    "generated_data=[]\n",
    "for line in lines.split(\"=\"*40 + \"\\n\"):\n",
    "    if len(line.replace(\"\\n\",\"\"))!=0:\n",
    "        generated_data.append(line.replace(\"\\n\",\"\"))\n",
    "generated_data={(i+1): generated_data[i] for i in range(0,len(generated_data))}\n",
    "generated_data\n",
    "\n",
    "from simpletransformers.language_representation import RepresentationModel\n",
    "gpt2_model = RepresentationModel(\n",
    "        model_type=\"gpt2\",\n",
    "        model_name=\"gpt2-medium\",\n",
    "        use_cuda=False\n",
    "    )\n",
    "generated_vectors = gpt2_model.encode_sentences(list(generated_data.values()), combine_strategy='mean')\n",
    "\n",
    "from scipy.spatial import distance\n",
    "def similarity(doc, topicId):\n",
    "    doc_vector = gpt2_model.encode_sentences([doc], combine_strategy='mean')\n",
    "    similarity_score = 1- distance.cosine(doc_vector,generated_vectors[topicId-1])\n",
    "    return similarity_score\n"
   ]
  },
  {
   "cell_type": "code",
   "execution_count": null,
   "metadata": {},
   "outputs": [],
   "source": [
    "import requests\n",
    "import xml.etree.ElementTree as ET\n",
    "import time\n",
    "from collections import Counter\n",
    "from itertools import chain\n",
    "import re\n",
    "\n",
    "def get_titles(file):\n",
    "    tree = ET.parse(file)\n",
    "    root = tree.getroot()\n",
    "    buffer = []\n",
    "    i=1\n",
    "    for title in root.iter('title'):\n",
    "        if i<=int(n_topics):\n",
    "            buffer.append(title.text.strip())\n",
    "        i=i+1\n",
    "    return buffer"
   ]
  }
 ],
 "metadata": {
  "kernelspec": {
   "display_name": "Python (internetsuchmaschine)",
   "language": "python",
   "name": "internetsuchmaschine"
  },
  "language_info": {
   "codemirror_mode": {
    "name": "ipython",
    "version": 3
   },
   "file_extension": ".py",
   "mimetype": "text/x-python",
   "name": "python",
   "nbconvert_exporter": "python",
   "pygments_lexer": "ipython3",
   "version": "3.7.4"
  }
 },
 "nbformat": 4,
 "nbformat_minor": 4
}
