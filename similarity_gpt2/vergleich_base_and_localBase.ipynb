{
 "cells": [
  {
   "cell_type": "code",
   "execution_count": 61,
   "metadata": {},
   "outputs": [],
   "source": [
    "with open('data/local/base_chatnoir_new.run') as text_file:\n",
    "    base_data = text_file.read().split(\"\\n\")[:-1]\n",
    "base_data = [r.split(\" \") for r in base_data]"
   ]
  },
  {
   "cell_type": "code",
   "execution_count": 73,
   "metadata": {},
   "outputs": [
    {
     "name": "stdout",
     "output_type": "stream",
     "text": [
      "avg of nDCG 0.570092\n"
     ]
    }
   ],
   "source": [
    "run cal_pytrec_eval.py data/touche2020-task2-relevance-withbaseline.qrel data/local/base_chatnoir_new.run ndcg_cut_5"
   ]
  },
  {
   "cell_type": "code",
   "execution_count": 74,
   "metadata": {},
   "outputs": [
    {
     "name": "stdout",
     "output_type": "stream",
     "text": [
      "avg of nDCG 0.570092\n"
     ]
    }
   ],
   "source": [
    "run cal_pytrec_eval.py 'data/touche2020-task2-relevance-withbaseline.qrel' 'data/local/100_base_chatnoir_new.run' ndcg_cut_5"
   ]
  },
  {
   "cell_type": "code",
   "execution_count": 75,
   "metadata": {},
   "outputs": [
    {
     "name": "stdout",
     "output_type": "stream",
     "text": [
      "avg of nDCG 0.570092\n"
     ]
    }
   ],
   "source": [
    "run cal_pytrec_eval.py 'data/touche2020-task2-relevance-withbaseline.qrel' 'data/local/local_output_similarity_0_False_True.run' ndcg_cut_5"
   ]
  },
  {
   "cell_type": "code",
   "execution_count": 30,
   "metadata": {},
   "outputs": [],
   "source": [
    "import json\n",
    "with open('data/local/local_base_new.run') as text_file_:\n",
    "    local_base_data = text_file_.read().split(\"\\n\")[:-1]\n",
    "local_base_data = [ r.split(\" \") for r in local_base_data]"
   ]
  },
  {
   "cell_type": "code",
   "execution_count": 70,
   "metadata": {},
   "outputs": [],
   "source": [
    "with open('data/local/local_output_similarity_0_False_True.run') as text_file:\n",
    "    factor_null = text_file.read().split(\"\\n\")[:-1]\n",
    "factor_null = [ r.split(\" \") for r in factor_null]"
   ]
  },
  {
   "cell_type": "code",
   "execution_count": 63,
   "metadata": {},
   "outputs": [],
   "source": [
    "with open('data/local/100_base_chatnoir_new.run') as text_file:\n",
    "    base_data_100 = text_file.read().split(\"\\n\")\n",
    "base_data_100 = [r.split(\" \") for r in base_data_100]"
   ]
  },
  {
   "cell_type": "code",
   "execution_count": 64,
   "metadata": {},
   "outputs": [],
   "source": [
    "with open('data/local/100_base_chatnoir_new_sort_True.run') as text_file:\n",
    "    base_data_100_sort = text_file.read().split(\"\\n\")\n",
    "base_data_100_sort = [r.split(\" \") for r in base_data_100_sort]"
   ]
  },
  {
   "cell_type": "code",
   "execution_count": 52,
   "metadata": {},
   "outputs": [],
   "source": [
    "def get_topic(data, topic):\n",
    "    answer=[]\n",
    "    for e in data:\n",
    "        if e[0]==str(topic):\n",
    "            answer.append(e)\n",
    "    return answer"
   ]
  },
  {
   "cell_type": "code",
   "execution_count": 72,
   "metadata": {},
   "outputs": [
    {
     "name": "stdout",
     "output_type": "stream",
     "text": [
      "3\n",
      "4\n",
      "5\n",
      "6\n",
      "7\n",
      "8\n",
      "10\n",
      "11\n",
      "12\n",
      "13\n",
      "14\n",
      "15\n",
      "16\n",
      "20\n",
      "23\n",
      "24\n",
      "25\n",
      "26\n",
      "27\n",
      "30\n",
      "33\n",
      "34\n",
      "36\n",
      "38\n",
      "39\n",
      "40\n",
      "41\n",
      "42\n",
      "43\n",
      "45\n",
      "47\n",
      "48\n",
      "50\n"
     ]
    }
   ],
   "source": [
    "count=0\n",
    "for topic in range(1,51):\n",
    "    answer = get_topic(local_base_data, topic)\n",
    "    answer_=get_topic(factor_null, topic)\n",
    "    if answer!=answer_:\n",
    "        print(topic)"
   ]
  },
  {
   "cell_type": "code",
   "execution_count": 69,
   "metadata": {},
   "outputs": [
    {
     "name": "stdout",
     "output_type": "stream",
     "text": [
      "1\n",
      "2\n",
      "3\n",
      "4\n",
      "5\n",
      "6\n",
      "7\n",
      "8\n",
      "9\n",
      "10\n",
      "11\n",
      "12\n",
      "13\n",
      "14\n",
      "15\n",
      "16\n",
      "17\n",
      "18\n",
      "19\n",
      "20\n",
      "21\n",
      "22\n",
      "23\n",
      "24\n",
      "25\n",
      "26\n",
      "27\n",
      "28\n",
      "29\n",
      "30\n",
      "31\n",
      "33\n",
      "34\n",
      "35\n",
      "36\n",
      "38\n",
      "39\n",
      "40\n",
      "41\n",
      "42\n",
      "43\n",
      "44\n",
      "45\n",
      "46\n",
      "47\n",
      "48\n",
      "49\n",
      "50\n"
     ]
    }
   ],
   "source": [
    "count=0\n",
    "for topic in range(1,51):\n",
    "    answer_100 = get_topic(base_data_100, topic)\n",
    "    answer_100_ = get_topic(base_data_100_sort, topic)\n",
    "    \n",
    "    if answer_100!=answer_100_:\n",
    "        print(topic)"
   ]
  },
  {
   "cell_type": "code",
   "execution_count": 71,
   "metadata": {},
   "outputs": [
    {
     "name": "stdout",
     "output_type": "stream",
     "text": [
      "3\n",
      "4\n",
      "5\n",
      "6\n",
      "7\n",
      "8\n",
      "10\n",
      "11\n",
      "12\n",
      "13\n",
      "14\n",
      "15\n",
      "16\n",
      "20\n",
      "23\n",
      "24\n",
      "25\n",
      "26\n",
      "27\n",
      "30\n",
      "33\n",
      "34\n",
      "36\n",
      "38\n",
      "39\n",
      "40\n",
      "41\n",
      "42\n",
      "43\n",
      "45\n",
      "47\n",
      "48\n",
      "50\n"
     ]
    }
   ],
   "source": [
    "for topic in range(1,51):\n",
    "    def get_topic(data, topic):\n",
    "        answer=[]\n",
    "        for e in data:\n",
    "            if e[0]==str(topic):\n",
    "                answer.append(e)\n",
    "        return answer\n",
    "    answer = get_topic(base_data, topic)\n",
    "    answer_=get_topic(factor_null, topic)\n",
    "    if answer!=answer_:\n",
    "        print(topic)"
   ]
  },
  {
   "cell_type": "code",
   "execution_count": null,
   "metadata": {},
   "outputs": [],
   "source": []
  }
 ],
 "metadata": {
  "kernelspec": {
   "display_name": "Python (internetsuchmaschine)",
   "language": "python",
   "name": "internetsuchmaschine"
  },
  "language_info": {
   "codemirror_mode": {
    "name": "ipython",
    "version": 3
   },
   "file_extension": ".py",
   "mimetype": "text/x-python",
   "name": "python",
   "nbconvert_exporter": "python",
   "pygments_lexer": "ipython3",
   "version": "3.7.4"
  }
 },
 "nbformat": 4,
 "nbformat_minor": 4
}
