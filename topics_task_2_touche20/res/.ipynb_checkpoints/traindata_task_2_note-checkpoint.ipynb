{
 "cells": [
  {
   "cell_type": "code",
   "execution_count": 4,
   "metadata": {},
   "outputs": [
    {
     "name": "stdout",
     "output_type": "stream",
     "text": [
      "{'1': ['clueweb12-1010wb-16-00261', '0'], '2': ['clueweb12-0306wb-77-05626', '2'], '3': ['clueweb12-0807wb-84-08314', '0'], '4': ['clueweb12-0110wb-97-17620', '0'], '5': ['clueweb12-1514wb-77-21531', '2'], '6': ['clueweb12-0700wb-07-17963', '0'], '7': ['clueweb12-0508wb-29-21600', '0'], '8': ['clueweb12-0007wb-95-07205', '0'], '9': ['clueweb12-0509wb-97-05716', '1'], '10': ['clueweb12-1310wb-82-25157', '1'], '11': ['clueweb12-1208wb-04-03567', '0'], '12': ['clueweb12-0707wb-63-08044', '0'], '13': ['clueweb12-0916wb-79-04626', '1'], '14': ['clueweb12-0807wb-82-31813', '1'], '15': ['clueweb12-0301tw-09-13229', '0'], '16': ['clueweb12-0109wb-46-14624', '0'], '17': ['clueweb12-0912wb-43-13039', '0'], '18': ['clueweb12-0110wb-18-14169', '0'], '19': ['clueweb12-1118wb-28-19523', '2'], '20': ['clueweb12-0003wb-60-08584', '0'], '21': ['clueweb12-0401wb-83-21349', '0'], '22': ['clueweb12-1116wb-51-02537', '0'], '23': ['clueweb12-0610wb-61-19530', '1'], '24': ['clueweb12-1020wb-74-05324', '0'], '25': ['clueweb12-0700wb-90-30911', '0'], '26': ['clueweb12-0401wb-58-06297', '1'], '27': ['clueweb12-0004wb-35-03843', '0'], '28': ['clueweb12-1616wb-91-11855', '2'], '29': ['clueweb12-0310wb-01-01656', '1'], '30': ['clueweb12-1713wb-34-20620', '0'], '31': ['clueweb12-0102wb-31-23254', '2'], '32': ['clueweb12-1511wb-20-11953', '0'], '33': ['clueweb12-0911wb-56-00306', '2'], '34': ['clueweb12-0411wb-54-03687', '0'], '35': ['clueweb12-0705wb-96-09227', '0'], '36': ['clueweb12-0808wb-91-15482', '2'], '37': ['clueweb12-0110wb-73-23384', '1'], '38': ['clueweb12-0013wb-70-04555', '2'], '39': ['clueweb12-1600tw-12-07481', '1'], '40': ['clueweb12-0500tw-35-13169', '1'], '41': ['clueweb12-1311wb-44-25723', '2'], '42': ['clueweb12-0009wb-50-25076', '0'], '43': ['clueweb12-0309wb-00-05831', '0'], '44': ['clueweb12-0005wb-89-08505', '1'], '45': ['clueweb12-0814wb-91-27540', '1'], '46': ['clueweb12-1108wb-76-12238', '0'], '47': ['clueweb12-1906wb-51-06336', '0'], '48': ['clueweb12-0800tw-59-13886', '1'], '49': ['clueweb12-0702wb-87-05757', '0'], '50': ['clueweb12-0206wb-00-16297', '0']}\n"
     ]
    }
   ],
   "source": [
    "def read_train(file):\n",
    "    f = open(file, \"r\")\n",
    "    train_data=dict()\n",
    "    for x in f:\n",
    "        x = x.split(\" \")\n",
    "        #print(x)\n",
    "        train_data[x[0]] = {x[2]:x[3][0]}\n",
    "    return train_data\n",
    "file=\"touche2020-task2-relevance-withbaseline.qrels\"\n",
    "train_data = read_train(file)\n",
    "print(train_data)"
   ]
  },
  {
   "cell_type": "code",
   "execution_count": null,
   "metadata": {},
   "outputs": [],
   "source": []
  }
 ],
 "metadata": {
  "kernelspec": {
   "display_name": "Python (internetsuchmaschine)",
   "language": "python",
   "name": "internetsuchmaschine"
  },
  "language_info": {
   "codemirror_mode": {
    "name": "ipython",
    "version": 3
   },
   "file_extension": ".py",
   "mimetype": "text/x-python",
   "name": "python",
   "nbconvert_exporter": "python",
   "pygments_lexer": "ipython3",
   "version": "3.7.4"
  }
 },
 "nbformat": 4,
 "nbformat_minor": 2
}
