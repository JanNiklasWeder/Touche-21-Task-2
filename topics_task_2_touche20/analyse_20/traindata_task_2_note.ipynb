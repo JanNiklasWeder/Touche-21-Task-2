{
 "cells": [
  {
   "cell_type": "code",
   "execution_count": 31,
   "metadata": {},
   "outputs": [],
   "source": [
    "from pandas import DataFrame\n",
    "import numpy as np\n",
    "\n",
    "def read_train(file):\n",
    "    f = open(file, \"r\")\n",
    "    train_data=[]\n",
    "    for x in f:\n",
    "        x = x.split(\" \")\n",
    "        train_data.append([int(x[0]),x[2],x[3][0]])\n",
    "    train_data = DataFrame(train_data, columns=[\"topic_id\", \"doc_id\", \"rel_rank\"]) \n",
    "    return train_data\n",
    "\n",
    "def train_by_topic(train_data,topic_id):\n",
    "    df_topic = train_data[train_data[\"topic_id\"]==topic_id].reset_index(drop=True)\n",
    "    return df_topic\n",
    "file=\"touche2020-task2-relevance-withbaseline.qrels\"\n",
    "train_data = read_train(file)\n",
    "nResults_by_topic=[]\n",
    "\n",
    "for topic_id in train_data.topic_id.unique():\n",
    "    nResults_by_topic.append(train_by_topic(train_data, topic_id).shape[0])\n",
    "    #get results\n",
    "    '''\n",
    "    array([34, 33, 32, 36, 36, 39, 37, 35, 35, 39, 32, 37, 36, 41, 33, 35, 32,\n",
    "       41, 33, 37, 31, 32, 32, 32, 34, 33, 36, 32, 37, 33, 34, 49, 36, 27,\n",
    "       34, 44, 21, 36, 41, 41, 38, 36, 27, 35, 39, 37, 35, 40, 45, 43])\n",
    "    '''"
   ]
  }
 ],
 "metadata": {
  "kernelspec": {
   "display_name": "Python (internetsuchmaschine)",
   "language": "python",
   "name": "internetsuchmaschine"
  },
  "language_info": {
   "codemirror_mode": {
    "name": "ipython",
    "version": 3
   },
   "file_extension": ".py",
   "mimetype": "text/x-python",
   "name": "python",
   "nbconvert_exporter": "python",
   "pygments_lexer": "ipython3",
   "version": "3.7.4"
  }
 },
 "nbformat": 4,
 "nbformat_minor": 2
}
